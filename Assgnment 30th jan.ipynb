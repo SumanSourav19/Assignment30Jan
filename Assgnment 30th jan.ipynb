{
 "cells": [
  {
   "cell_type": "markdown",
   "id": "f05bee71-0d21-4ebd-9f7a-20ff32d081a5",
   "metadata": {},
   "source": [
    "1. Write a program to accept percentage from user and display the grade according to the followiung criteria:\n",
    "\n",
    "Marks            Grade  \n",
    "> 90               A\n",
    ">80 and <=90       B\n",
    ">=60 and <=90      C\n",
    "below 60           D\n"
   ]
  },
  {
   "cell_type": "code",
   "execution_count": 2,
   "id": "b898aa90-9d4e-4149-a979-454d96e7c540",
   "metadata": {},
   "outputs": [
    {
     "name": "stdin",
     "output_type": "stream",
     "text": [
      "Enter your marks 86\n"
     ]
    },
    {
     "name": "stdout",
     "output_type": "stream",
     "text": [
      "The candidate obtained B grade\n"
     ]
    }
   ],
   "source": [
    "marks = int(input(\"Enter your marks\"))\n",
    "if marks >90 :\n",
    "    print(\"The candidate obtained A grade\")\n",
    "elif marks >80 and marks <=90:\n",
    "    print (\"The candidate obtained B grade\")\n",
    "elif marks >=60 and marks <=90:\n",
    "    print(\"The candidate obtained C grade\")\n",
    "else:\n",
    "    print(\"The candidate obtained D grade\")\n",
    "    \n",
    "    \n",
    "    \n",
    "    \n",
    "    "
   ]
  },
  {
   "cell_type": "markdown",
   "id": "959c99d7-f92c-4490-a3c3-2daaf3fcba3e",
   "metadata": {},
   "source": [
    "2. Write a program to accept cost price of bike from user and display the road tax to be paid according to the following criteria:\n",
    "    Tax                           Cost Price(in Rs.)\n",
    "    15%                           >100000\n",
    "    10%                           >50000 and <=100000\n",
    "    5%                            <=50000\n"
   ]
  },
  {
   "cell_type": "code",
   "execution_count": null,
   "id": "44b0bfe8-d3a9-4836-9022-2f4ef4405d17",
   "metadata": {},
   "outputs": [],
   "source": [
    "cost_Price = int(input(\"Please enter the cost_Price of bike\"))\n",
    "if cost_Price >100000 :\n",
    "    print(\"The road tax on the bike will be 15%\")\n",
    "elif cost_Price > 50000 and cost_Price <= 100000 :\n",
    "    print(\"The road tax on the bike will be 10%\")\n",
    "else: \n",
    "    print(\"The road tax on the bike will be 5%\")\n",
    "    \n",
    "    "
   ]
  },
  {
   "cell_type": "markdown",
   "id": "fc7ff924-d2ad-4fff-9eef-e52a154bdff7",
   "metadata": {},
   "source": [
    "3. Accept any city form the user and display monuments of that city\n",
    "   City                    Monument\n",
    "   Delhi                   Red Fort\n",
    "   Agra                    Taj Mahal\n",
    "   Jaipur                  Jai Mahal"
   ]
  },
  {
   "cell_type": "code",
   "execution_count": 42,
   "id": "a641ac1e-c98f-42fa-9816-26237e001c90",
   "metadata": {},
   "outputs": [
    {
     "name": "stdin",
     "output_type": "stream",
     "text": [
      "Enter the name of city Delhi\n"
     ]
    },
    {
     "name": "stdout",
     "output_type": "stream",
     "text": [
      "The monumenet is Red Fort\n"
     ]
    }
   ],
   "source": [
    "City = input(\"Enter the name of city\")\n",
    "if City == \"Delhi\":\n",
    "    print(\"The monumenet is Red Fort\")\n",
    "elif City == \"Agra\":\n",
    "    print (\"The monument is Taj Mahal\")\n",
    "elif City == \"Jaipur\":\n",
    "    print(\"The monument is Jai Mahal\")\n",
    "    "
   ]
  },
  {
   "cell_type": "markdown",
   "id": "646d2834-e787-4dac-bb58-48237fa0838a",
   "metadata": {},
   "source": [
    "4. Check how many times a given number can be divided by 3 before it is less than or equal to 10."
   ]
  },
  {
   "cell_type": "code",
   "execution_count": 17,
   "id": "9be6eb82-02f6-4793-b726-8767745aa05a",
   "metadata": {},
   "outputs": [
    {
     "name": "stdin",
     "output_type": "stream",
     "text": [
      "Enter the number 300\n"
     ]
    },
    {
     "name": "stdout",
     "output_type": "stream",
     "text": [
      "Total iteration required 4\n"
     ]
    }
   ],
   "source": [
    "number=int(input(\"Enter the number\"))\n",
    "count = 0\n",
    "while number > 10:\n",
    "    number = number /3\n",
    "    count = count + 1\n",
    "print('Total iteration required', count)"
   ]
  },
  {
   "cell_type": "markdown",
   "id": "c521cb1b-b946-4609-bcc1-99277bd67e8d",
   "metadata": {},
   "source": [
    "5. Why and when to use while loop in python give a detailed description with example."
   ]
  },
  {
   "cell_type": "markdown",
   "id": "7c64f9f1-1ed7-408c-a7a1-ad49bccf9a09",
   "metadata": {},
   "source": [
    "Python while loop is used to run a block code until a certain condition is met. Here, a while loop evaluates the condition. If the condition evaluates to True , the code inside the while loop is executed.\n",
    "\n",
    "Python While Loop Syntax\n",
    "\n",
    "while (expression):\n",
    "Body of while\n",
    "\n",
    "Python While Loop Example:\n",
    "\n",
    "i = 1\n",
    "n = 5\n",
    "\n",
    "\n",
    "while i <= n:\n",
    "    print(i)\n",
    "    i = i + 1"
   ]
  },
  {
   "cell_type": "markdown",
   "id": "08a27843-390c-4174-8b27-fbfc6e521b56",
   "metadata": {},
   "source": [
    "6. Use nested while loop to print 3 different pattern."
   ]
  },
  {
   "cell_type": "code",
   "execution_count": 1,
   "id": "66946e2c-4280-40ea-9281-d4672e95039c",
   "metadata": {},
   "outputs": [
    {
     "name": "stdout",
     "output_type": "stream",
     "text": [
      "1 \n",
      "1 2 \n",
      "1 2 3 \n",
      "1 2 3 4 \n",
      "1 2 3 4 5 \n"
     ]
    }
   ],
   "source": [
    "i=1\n",
    "while i<=5:\n",
    "    j=1\n",
    "    while j<=i:\n",
    "        print(j,end=\" \")\n",
    "        j=j+1\n",
    "    print(\"\")\n",
    "    i=i+1"
   ]
  },
  {
   "cell_type": "code",
   "execution_count": 4,
   "id": "ccea6b7d-2db5-4412-b2d8-b3afd1d9f4a0",
   "metadata": {},
   "outputs": [
    {
     "name": "stdin",
     "output_type": "stream",
     "text": [
      "Enter number of rows :  4\n"
     ]
    },
    {
     "name": "stdout",
     "output_type": "stream",
     "text": [
      "* * * * \n",
      "* * * \n",
      "* * \n",
      "* \n"
     ]
    }
   ],
   "source": [
    "n = int(input('Enter number of rows : '))\n",
    " \n",
    "i = 1\n",
    "while i <= n :\n",
    "    j = n\n",
    "    while j >= i:\n",
    "        print(\"*\", end = \" \")\n",
    "        j -= 1\n",
    "    print()\n",
    "    i += 1"
   ]
  },
  {
   "cell_type": "code",
   "execution_count": 5,
   "id": "c07bc0b2-4025-4a63-b2a8-e878b238db29",
   "metadata": {},
   "outputs": [
    {
     "name": "stdout",
     "output_type": "stream",
     "text": [
      "0 1 2 3 4 5 \n",
      "0 1 2 3 4 \n",
      "0 1 2 3 \n",
      "0 1 2 \n",
      "0 1 \n"
     ]
    }
   ],
   "source": [
    "rows = 5\n",
    "for i in range(rows, 0, -1):\n",
    "    for j in range(0, i + 1):\n",
    "        print(j, end=' ')\n",
    "    print(\"\\r\")"
   ]
  },
  {
   "cell_type": "markdown",
   "id": "25f5d336-75c2-4346-8705-5cad3b7ab050",
   "metadata": {},
   "source": [
    "7.Reverse a while loop to display numbers from 10 to 1."
   ]
  },
  {
   "cell_type": "code",
   "execution_count": 8,
   "id": "923cbfe1-9de3-4b19-b209-1224cc078fd3",
   "metadata": {},
   "outputs": [
    {
     "name": "stdout",
     "output_type": "stream",
     "text": [
      "10\n",
      "9\n",
      "8\n",
      "7\n",
      "6\n",
      "5\n",
      "4\n",
      "3\n",
      "2\n",
      "1\n"
     ]
    }
   ],
   "source": [
    "for i in range(10, 0, -1):\n",
    "        print(i)"
   ]
  },
  {
   "cell_type": "markdown",
   "id": "bd6c18ad-7f87-4dc8-a9dd-603aae659f85",
   "metadata": {},
   "source": [
    "8.Reverse a while loop to display numbers from 1 to 10."
   ]
  },
  {
   "cell_type": "code",
   "execution_count": 9,
   "id": "18042a66-0653-444a-9bfa-d8e03b609955",
   "metadata": {},
   "outputs": [
    {
     "name": "stdout",
     "output_type": "stream",
     "text": [
      "1\n",
      "2\n",
      "3\n",
      "4\n",
      "5\n",
      "6\n",
      "7\n",
      "8\n",
      "9\n",
      "10\n"
     ]
    }
   ],
   "source": [
    "for i in range(1,11,1):\n",
    "    print (i)"
   ]
  },
  {
   "cell_type": "code",
   "execution_count": null,
   "id": "f6b17c22-465e-4673-aa6f-34ec6799e34f",
   "metadata": {},
   "outputs": [],
   "source": []
  }
 ],
 "metadata": {
  "kernelspec": {
   "display_name": "Python 3 (ipykernel)",
   "language": "python",
   "name": "python3"
  },
  "language_info": {
   "codemirror_mode": {
    "name": "ipython",
    "version": 3
   },
   "file_extension": ".py",
   "mimetype": "text/x-python",
   "name": "python",
   "nbconvert_exporter": "python",
   "pygments_lexer": "ipython3",
   "version": "3.10.8"
  }
 },
 "nbformat": 4,
 "nbformat_minor": 5
}
